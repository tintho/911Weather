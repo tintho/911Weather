{
 "cells": [
  {
   "cell_type": "code",
   "execution_count": 1,
   "metadata": {
    "collapsed": true
   },
   "outputs": [],
   "source": [
    "import csv\n",
    "import pandas as pd\n",
    "import numpy as np\n",
    "import re\n",
    "import datetime as dt\n",
    "import time"
   ]
  },
  {
   "cell_type": "code",
   "execution_count": 2,
   "metadata": {
    "collapsed": true
   },
   "outputs": [],
   "source": [
    "df = pd.read_csv(\"Seattle_Police_Department_911_Incident_Response.csv\", parse_dates=[0], infer_datetime_format=True)"
   ]
  },
  {
   "cell_type": "code",
   "execution_count": 3,
   "metadata": {
    "collapsed": false
   },
   "outputs": [],
   "source": [
    "df['fullDate'] = df['Event Clearance Date'].apply(lambda x: str(x).split(' ')[0])\n",
    "df['ECG'] = df['Event Clearance Group']\n",
    "df['dtDate'] = pd.DatetimeIndex(df['Event Clearance Date'])\n",
    "df['eventClearanceSeconds'] = df['dtDate'].apply(lambda x: x.hour * 3600 + x.minute*60)"
   ]
  },
  {
   "cell_type": "code",
   "execution_count": 4,
   "metadata": {
    "collapsed": false
   },
   "outputs": [],
   "source": [
    "df['weekday'] = df['dtDate'].apply(lambda x: x.weekday())\n",
    "df['weekdayName'] = df['dtDate'].apply(lambda x: x.weekday_name)\n",
    "\n",
    "weekDummies = pd.get_dummies(df['weekdayName'])\n",
    "df = pd.concat([df,weekDummies], axis = 1)\n",
    "\n",
    "zoneBeatDummies = pd.get_dummies(df['Zone/Beat'])\n",
    "df = pd.concat([df,zoneBeatDummies], axis = 1)"
   ]
  },
  {
   "cell_type": "code",
   "execution_count": 5,
   "metadata": {
    "collapsed": true
   },
   "outputs": [],
   "source": [
    "import calendar\n",
    "weather = pd.read_csv(\"WEATHER.csv\")\n",
    "\n",
    "months_map = {'Jan': '01', 'Feb': '02', 'Mar': '03', 'Apr':'04', 'May': '05', 'Jun': '06', 'Jul': '07', 'Aug': '08', 'Sep': '09', 'Oct':'10', 'Nov': '11', 'Dec': '12'}\n",
    "weather['m'] = weather['month'].apply(lambda x: months_map[x])\n",
    "weather['day'] = weather['date'].apply(lambda x: ('0' + str(x)) if x < 10 else str(x) )\n",
    "weather['fullDate'] = weather.apply(lambda x: str(x['m']) + '/' + str(x['day']) + '/' + str(x['\\ufeffyear']), axis=1 )\n",
    "weather['clear'] = weather['events'].apply(lambda x: 1 if ('Rain' in str(x) or 'Snow' in str(x) or 'Fog' in str(x) or 'Thunderstorm' in str(x)) else 0)\n",
    "weather['notClear'] = weather['clear'].apply(lambda x: 1 if x is 0 else 0)"
   ]
  },
  {
   "cell_type": "code",
   "execution_count": 6,
   "metadata": {
    "collapsed": true
   },
   "outputs": [],
   "source": [
    "merged = pd.merge(df, weather, on = 'fullDate', how = 'left')"
   ]
  },
  {
   "cell_type": "code",
   "execution_count": 7,
   "metadata": {
    "collapsed": false,
    "scrolled": true
   },
   "outputs": [],
   "source": [
    "#list(merged.columns.values)"
   ]
  },
  {
   "cell_type": "code",
   "execution_count": 8,
   "metadata": {
    "collapsed": false
   },
   "outputs": [
    {
     "data": {
      "text/plain": [
       "(1335033, 151)"
      ]
     },
     "execution_count": 8,
     "metadata": {},
     "output_type": "execute_result"
    }
   ],
   "source": [
    "merged.shape"
   ]
  },
  {
   "cell_type": "code",
   "execution_count": 9,
   "metadata": {
    "collapsed": false
   },
   "outputs": [
    {
     "data": {
      "text/plain": [
       "(1311452, 151)"
      ]
     },
     "execution_count": 9,
     "metadata": {},
     "output_type": "execute_result"
    }
   ],
   "source": [
    "merged = merged.dropna(subset=[\"Event Clearance Date\", \"Event Clearance Group\",\"date\", \"tempAvg\"])\n",
    "merged.shape"
   ]
  },
  {
   "cell_type": "code",
   "execution_count": 10,
   "metadata": {
    "collapsed": false
   },
   "outputs": [],
   "source": [
    "#merged.groupby('ECG').count()"
   ]
  },
  {
   "cell_type": "code",
   "execution_count": 102,
   "metadata": {
    "collapsed": false
   },
   "outputs": [],
   "source": [
    "sample = []\n",
    "foo = merged.groupby('ECG')\n",
    "for name, group in foo:\n",
    "    sample.append(group.sample(n=min(10000, group.shape[0]), replace = False, random_state = 14, ))\n",
    "new_df = pd.concat(sample)\n",
    "new_df['secondsInDay'] = new_df['eventClearanceSeconds'].apply(lambda x: int(x))"
   ]
  },
  {
   "cell_type": "code",
   "execution_count": 103,
   "metadata": {
    "collapsed": false
   },
   "outputs": [
    {
     "data": {
      "text/plain": [
       "(311269, 152)"
      ]
     },
     "execution_count": 103,
     "metadata": {},
     "output_type": "execute_result"
    }
   ],
   "source": [
    "#new_df.groupby('ECG').count()\n",
    "new_df.shape"
   ]
  },
  {
   "cell_type": "code",
   "execution_count": 104,
   "metadata": {
    "collapsed": false
   },
   "outputs": [],
   "source": [
    "train=new_df.sample(frac=0.7,random_state=14)\n",
    "test=new_df.sample(frac = 0.3, random_state = 16)"
   ]
  },
  {
   "cell_type": "code",
   "execution_count": 105,
   "metadata": {
    "collapsed": false
   },
   "outputs": [
    {
     "data": {
      "text/plain": [
       "(217888, 152)"
      ]
     },
     "execution_count": 105,
     "metadata": {},
     "output_type": "execute_result"
    }
   ],
   "source": [
    "train.shape"
   ]
  },
  {
   "cell_type": "code",
   "execution_count": 106,
   "metadata": {
    "collapsed": false
   },
   "outputs": [
    {
     "data": {
      "text/plain": [
       "(93381, 152)"
      ]
     },
     "execution_count": 106,
     "metadata": {},
     "output_type": "execute_result"
    }
   ],
   "source": [
    "test.shape"
   ]
  },
  {
   "cell_type": "code",
   "execution_count": 107,
   "metadata": {
    "collapsed": false
   },
   "outputs": [
    {
     "data": {
      "text/html": [
       "<div>\n",
       "<table border=\"1\" class=\"dataframe\">\n",
       "  <thead>\n",
       "    <tr style=\"text-align: right;\">\n",
       "      <th></th>\n",
       "      <th>secondsInDay</th>\n",
       "      <th>clear</th>\n",
       "      <th>Latitude</th>\n",
       "      <th>Longitude</th>\n",
       "      <th>m</th>\n",
       "      <th>day</th>\n",
       "      <th>tempHigh</th>\n",
       "      <th>tempAvg</th>\n",
       "      <th>tempLow</th>\n",
       "      <th>dewHigh</th>\n",
       "      <th>...</th>\n",
       "      <th>U1</th>\n",
       "      <th>U2</th>\n",
       "      <th>U3</th>\n",
       "      <th>US</th>\n",
       "      <th>W</th>\n",
       "      <th>W1</th>\n",
       "      <th>W2</th>\n",
       "      <th>W3</th>\n",
       "      <th>WP</th>\n",
       "      <th>WS</th>\n",
       "    </tr>\n",
       "  </thead>\n",
       "  <tbody>\n",
       "    <tr>\n",
       "      <th>399073</th>\n",
       "      <td>27000</td>\n",
       "      <td>0.0</td>\n",
       "      <td>47.614421</td>\n",
       "      <td>-122.346308</td>\n",
       "      <td>03</td>\n",
       "      <td>25</td>\n",
       "      <td>56.0</td>\n",
       "      <td>46.0</td>\n",
       "      <td>36.0</td>\n",
       "      <td>41.0</td>\n",
       "      <td>...</td>\n",
       "      <td>0.0</td>\n",
       "      <td>0.0</td>\n",
       "      <td>0.0</td>\n",
       "      <td>0.0</td>\n",
       "      <td>0.0</td>\n",
       "      <td>0.0</td>\n",
       "      <td>0.0</td>\n",
       "      <td>0.0</td>\n",
       "      <td>0.0</td>\n",
       "      <td>0.0</td>\n",
       "    </tr>\n",
       "    <tr>\n",
       "      <th>1081801</th>\n",
       "      <td>62400</td>\n",
       "      <td>0.0</td>\n",
       "      <td>47.596657</td>\n",
       "      <td>-122.327680</td>\n",
       "      <td>08</td>\n",
       "      <td>25</td>\n",
       "      <td>91.0</td>\n",
       "      <td>76.0</td>\n",
       "      <td>61.0</td>\n",
       "      <td>54.0</td>\n",
       "      <td>...</td>\n",
       "      <td>0.0</td>\n",
       "      <td>0.0</td>\n",
       "      <td>0.0</td>\n",
       "      <td>0.0</td>\n",
       "      <td>0.0</td>\n",
       "      <td>0.0</td>\n",
       "      <td>0.0</td>\n",
       "      <td>0.0</td>\n",
       "      <td>0.0</td>\n",
       "      <td>0.0</td>\n",
       "    </tr>\n",
       "    <tr>\n",
       "      <th>856128</th>\n",
       "      <td>61500</td>\n",
       "      <td>0.0</td>\n",
       "      <td>47.723795</td>\n",
       "      <td>-122.292841</td>\n",
       "      <td>09</td>\n",
       "      <td>28</td>\n",
       "      <td>69.0</td>\n",
       "      <td>61.0</td>\n",
       "      <td>53.0</td>\n",
       "      <td>50.0</td>\n",
       "      <td>...</td>\n",
       "      <td>0.0</td>\n",
       "      <td>0.0</td>\n",
       "      <td>0.0</td>\n",
       "      <td>0.0</td>\n",
       "      <td>0.0</td>\n",
       "      <td>0.0</td>\n",
       "      <td>0.0</td>\n",
       "      <td>0.0</td>\n",
       "      <td>0.0</td>\n",
       "      <td>0.0</td>\n",
       "    </tr>\n",
       "    <tr>\n",
       "      <th>194062</th>\n",
       "      <td>85080</td>\n",
       "      <td>0.0</td>\n",
       "      <td>47.601719</td>\n",
       "      <td>-122.332874</td>\n",
       "      <td>09</td>\n",
       "      <td>16</td>\n",
       "      <td>64.0</td>\n",
       "      <td>58.0</td>\n",
       "      <td>52.0</td>\n",
       "      <td>52.0</td>\n",
       "      <td>...</td>\n",
       "      <td>0.0</td>\n",
       "      <td>0.0</td>\n",
       "      <td>0.0</td>\n",
       "      <td>0.0</td>\n",
       "      <td>0.0</td>\n",
       "      <td>0.0</td>\n",
       "      <td>0.0</td>\n",
       "      <td>0.0</td>\n",
       "      <td>0.0</td>\n",
       "      <td>0.0</td>\n",
       "    </tr>\n",
       "    <tr>\n",
       "      <th>776252</th>\n",
       "      <td>51480</td>\n",
       "      <td>1.0</td>\n",
       "      <td>47.596657</td>\n",
       "      <td>-122.327680</td>\n",
       "      <td>01</td>\n",
       "      <td>27</td>\n",
       "      <td>58.0</td>\n",
       "      <td>54.0</td>\n",
       "      <td>49.0</td>\n",
       "      <td>52.0</td>\n",
       "      <td>...</td>\n",
       "      <td>0.0</td>\n",
       "      <td>0.0</td>\n",
       "      <td>0.0</td>\n",
       "      <td>0.0</td>\n",
       "      <td>0.0</td>\n",
       "      <td>0.0</td>\n",
       "      <td>0.0</td>\n",
       "      <td>0.0</td>\n",
       "      <td>0.0</td>\n",
       "      <td>0.0</td>\n",
       "    </tr>\n",
       "  </tbody>\n",
       "</table>\n",
       "<p>5 rows × 120 columns</p>\n",
       "</div>"
      ],
      "text/plain": [
       "         secondsInDay  clear   Latitude   Longitude   m day  tempHigh  \\\n",
       "399073          27000    0.0  47.614421 -122.346308  03  25      56.0   \n",
       "1081801         62400    0.0  47.596657 -122.327680  08  25      91.0   \n",
       "856128          61500    0.0  47.723795 -122.292841  09  28      69.0   \n",
       "194062          85080    0.0  47.601719 -122.332874  09  16      64.0   \n",
       "776252          51480    1.0  47.596657 -122.327680  01  27      58.0   \n",
       "\n",
       "         tempAvg  tempLow  dewHigh ...    U1   U2   U3   US    W   W1   W2  \\\n",
       "399073      46.0     36.0     41.0 ...   0.0  0.0  0.0  0.0  0.0  0.0  0.0   \n",
       "1081801     76.0     61.0     54.0 ...   0.0  0.0  0.0  0.0  0.0  0.0  0.0   \n",
       "856128      61.0     53.0     50.0 ...   0.0  0.0  0.0  0.0  0.0  0.0  0.0   \n",
       "194062      58.0     52.0     52.0 ...   0.0  0.0  0.0  0.0  0.0  0.0  0.0   \n",
       "776252      54.0     49.0     52.0 ...   0.0  0.0  0.0  0.0  0.0  0.0  0.0   \n",
       "\n",
       "          W3   WP   WS  \n",
       "399073   0.0  0.0  0.0  \n",
       "1081801  0.0  0.0  0.0  \n",
       "856128   0.0  0.0  0.0  \n",
       "194062   0.0  0.0  0.0  \n",
       "776252   0.0  0.0  0.0  \n",
       "\n",
       "[5 rows x 120 columns]"
      ]
     },
     "execution_count": 107,
     "metadata": {},
     "output_type": "execute_result"
    }
   ],
   "source": [
    "features = ['secondsInDay', 'clear', 'Latitude', 'Longitude', 'm', 'day', 'tempHigh',\n",
    " 'tempAvg',\n",
    " 'tempLow',\n",
    " 'dewHigh',\n",
    " 'dewAvg',\n",
    " 'dewLow',\n",
    " 'humidityHigh',\n",
    " 'humidityAvg',\n",
    " 'humidityLow',\n",
    " 'seaLvlHigh',\n",
    " 'seaLvlAvg',\n",
    " 'seaLvlLow',\n",
    " 'visibilityHigh',\n",
    " 'visibilityAvg',\n",
    " 'visibilityLow',\n",
    " 'windHigh',\n",
    " 'windAvg','Friday',\n",
    " 'Monday',\n",
    " 'Saturday',\n",
    " 'Sunday',\n",
    " 'Thursday',\n",
    " 'Tuesday',\n",
    " 'Wednesday','99',\n",
    " 'B1',\n",
    " 'B2',\n",
    " 'B3',\n",
    " 'BS',\n",
    " 'C1',\n",
    " 'C2',\n",
    " 'C3',\n",
    " 'CCD',\n",
    " 'COMM',\n",
    " 'CS',\n",
    " 'CTY',\n",
    " 'D1',\n",
    " 'D2',\n",
    " 'D3',\n",
    " 'DET',\n",
    " 'DS',\n",
    " 'E',\n",
    " 'E1',\n",
    " 'E2',\n",
    " 'E3',\n",
    " 'EDD',\n",
    " 'EP',\n",
    " 'ES',\n",
    " 'F1',\n",
    " 'F2',\n",
    " 'F3',\n",
    " 'FS',\n",
    " 'G1',\n",
    " 'G2',\n",
    " 'G3',\n",
    " 'GS',\n",
    " 'H2',\n",
    " 'H3',\n",
    " 'INV',\n",
    " 'J1',\n",
    " 'J2',\n",
    " 'J3',\n",
    " 'JS',\n",
    " 'K1',\n",
    " 'K2',\n",
    " 'K3',\n",
    " 'KCIO07',\n",
    " 'KS',\n",
    " 'L1',\n",
    " 'L2',\n",
    " 'L3',\n",
    " 'LAPT',\n",
    " 'LS',\n",
    " 'M1',\n",
    " 'M2',\n",
    " 'M3',\n",
    " 'MS',\n",
    " 'N',\n",
    " 'N1',\n",
    " 'N2',\n",
    " 'N3',\n",
    " 'NP',\n",
    " 'NS',\n",
    " 'O1',\n",
    " 'O2',\n",
    " 'O3',\n",
    " 'OS',\n",
    " 'Q1',\n",
    " 'Q2',\n",
    " 'Q3',\n",
    " 'QS',\n",
    " 'R1',\n",
    " 'R2',\n",
    " 'R3',\n",
    " 'RS',\n",
    " 'S',\n",
    " 'S1',\n",
    " 'S2',\n",
    " 'S3',\n",
    " 'SCTR1',\n",
    " 'SP',\n",
    " 'SS',\n",
    " 'TAC3',\n",
    " 'TRF',\n",
    " 'U1',\n",
    " 'U2',\n",
    " 'U3',\n",
    " 'US',\n",
    " 'W',\n",
    " 'W1',\n",
    " 'W2',\n",
    " 'W3',\n",
    " 'WP',\n",
    " 'WS']\n",
    "X = train[features]\n",
    "X2 = test[features]\n",
    "X.head()"
   ]
  },
  {
   "cell_type": "code",
   "execution_count": 108,
   "metadata": {
    "collapsed": false
   },
   "outputs": [
    {
     "name": "stdout",
     "output_type": "stream",
     "text": [
      "(217888, 120)\n",
      "(217888,)\n"
     ]
    }
   ],
   "source": [
    "y = train.ECG\n",
    "y2 = test.ECG\n",
    "print(X.shape)\n",
    "print(y.shape)"
   ]
  },
  {
   "cell_type": "code",
   "execution_count": 109,
   "metadata": {
    "collapsed": false
   },
   "outputs": [],
   "source": [
    "from sklearn import linear_model\n",
    "lr = linear_model.LogisticRegression(solver='lbfgs', multi_class = 'multinomial', max_iter=200, class_weight= 'balanced')\n",
    "fit = lr.fit(X, y)"
   ]
  },
  {
   "cell_type": "code",
   "execution_count": 110,
   "metadata": {
    "collapsed": false
   },
   "outputs": [],
   "source": [
    "preds = lr.predict(X2)"
   ]
  },
  {
   "cell_type": "code",
   "execution_count": 111,
   "metadata": {
    "collapsed": false
   },
   "outputs": [],
   "source": [
    "test['ECG_pred'] = preds\n",
    "fc = ['ECG', 'ECG_pred']\n",
    "acc = test[fc]"
   ]
  },
  {
   "cell_type": "code",
   "execution_count": 112,
   "metadata": {
    "collapsed": false
   },
   "outputs": [
    {
     "name": "stderr",
     "output_type": "stream",
     "text": [
      "C:\\Users\\Tin\\Anaconda3\\lib\\site-packages\\ipykernel\\__main__.py:1: SettingWithCopyWarning: \n",
      "A value is trying to be set on a copy of a slice from a DataFrame.\n",
      "Try using .loc[row_indexer,col_indexer] = value instead\n",
      "\n",
      "See the caveats in the documentation: http://pandas.pydata.org/pandas-docs/stable/indexing.html#indexing-view-versus-copy\n",
      "  if __name__ == '__main__':\n"
     ]
    }
   ],
   "source": [
    "acc['int_accuracy'] = (acc['ECG'] == acc['ECG_pred']).astype(int)"
   ]
  },
  {
   "cell_type": "code",
   "execution_count": 113,
   "metadata": {
    "collapsed": false
   },
   "outputs": [
    {
     "data": {
      "text/plain": [
       "ECG             BEHAVIORAL HEALTHACCIDENT INVESTIGATIONTRESPAS...\n",
       "ECG_pred        VICE CALLSVICE CALLSPUBLIC GATHERINGSHARBOR CA...\n",
       "int_accuracy                                                 1684\n",
       "dtype: object"
      ]
     },
     "execution_count": 113,
     "metadata": {},
     "output_type": "execute_result"
    }
   ],
   "source": [
    "acc.sum(axis=0)"
   ]
  },
  {
   "cell_type": "code",
   "execution_count": 114,
   "metadata": {
    "collapsed": false
   },
   "outputs": [
    {
     "data": {
      "text/plain": [
       "0.018033647101658796"
      ]
     },
     "execution_count": 114,
     "metadata": {},
     "output_type": "execute_result"
    }
   ],
   "source": [
    "1684/93381"
   ]
  },
  {
   "cell_type": "code",
   "execution_count": 115,
   "metadata": {
    "collapsed": false
   },
   "outputs": [
    {
     "data": {
      "text/html": [
       "<div>\n",
       "<table border=\"1\" class=\"dataframe\">\n",
       "  <thead>\n",
       "    <tr style=\"text-align: right;\">\n",
       "      <th></th>\n",
       "      <th>ECG</th>\n",
       "      <th>int_accuracy</th>\n",
       "    </tr>\n",
       "    <tr>\n",
       "      <th>ECG_pred</th>\n",
       "      <th></th>\n",
       "      <th></th>\n",
       "    </tr>\n",
       "  </thead>\n",
       "  <tbody>\n",
       "    <tr>\n",
       "      <th>ACCIDENT INVESTIGATION</th>\n",
       "      <td>11580</td>\n",
       "      <td>11580</td>\n",
       "    </tr>\n",
       "    <tr>\n",
       "      <th>ANIMAL COMPLAINTS</th>\n",
       "      <td>109</td>\n",
       "      <td>109</td>\n",
       "    </tr>\n",
       "    <tr>\n",
       "      <th>ARREST</th>\n",
       "      <td>134</td>\n",
       "      <td>134</td>\n",
       "    </tr>\n",
       "    <tr>\n",
       "      <th>ASSAULTS</th>\n",
       "      <td>1</td>\n",
       "      <td>1</td>\n",
       "    </tr>\n",
       "    <tr>\n",
       "      <th>AUTO THEFTS</th>\n",
       "      <td>10</td>\n",
       "      <td>10</td>\n",
       "    </tr>\n",
       "    <tr>\n",
       "      <th>BEHAVIORAL HEALTH</th>\n",
       "      <td>4751</td>\n",
       "      <td>4751</td>\n",
       "    </tr>\n",
       "    <tr>\n",
       "      <th>BIKE</th>\n",
       "      <td>880</td>\n",
       "      <td>880</td>\n",
       "    </tr>\n",
       "    <tr>\n",
       "      <th>CAR PROWL</th>\n",
       "      <td>15</td>\n",
       "      <td>15</td>\n",
       "    </tr>\n",
       "    <tr>\n",
       "      <th>DISTURBANCES</th>\n",
       "      <td>1793</td>\n",
       "      <td>1793</td>\n",
       "    </tr>\n",
       "    <tr>\n",
       "      <th>DRIVE BY (NO INJURY)</th>\n",
       "      <td>6127</td>\n",
       "      <td>6127</td>\n",
       "    </tr>\n",
       "    <tr>\n",
       "      <th>FAILURE TO REGISTER (SEX OFFENDER)</th>\n",
       "      <td>13632</td>\n",
       "      <td>13632</td>\n",
       "    </tr>\n",
       "    <tr>\n",
       "      <th>FALSE ALACAD</th>\n",
       "      <td>1071</td>\n",
       "      <td>1071</td>\n",
       "    </tr>\n",
       "    <tr>\n",
       "      <th>FALSE ALARMS</th>\n",
       "      <td>203</td>\n",
       "      <td>203</td>\n",
       "    </tr>\n",
       "    <tr>\n",
       "      <th>FRAUD CALLS</th>\n",
       "      <td>45</td>\n",
       "      <td>45</td>\n",
       "    </tr>\n",
       "    <tr>\n",
       "      <th>HARBOR CALLS</th>\n",
       "      <td>14807</td>\n",
       "      <td>14807</td>\n",
       "    </tr>\n",
       "    <tr>\n",
       "      <th>HAZARDS</th>\n",
       "      <td>32</td>\n",
       "      <td>32</td>\n",
       "    </tr>\n",
       "    <tr>\n",
       "      <th>HOMICIDE</th>\n",
       "      <td>243</td>\n",
       "      <td>243</td>\n",
       "    </tr>\n",
       "    <tr>\n",
       "      <th>MENTAL HEALTH</th>\n",
       "      <td>834</td>\n",
       "      <td>834</td>\n",
       "    </tr>\n",
       "    <tr>\n",
       "      <th>MISCELLANEOUS MISDEMEANORS</th>\n",
       "      <td>28</td>\n",
       "      <td>28</td>\n",
       "    </tr>\n",
       "    <tr>\n",
       "      <th>MOTOR VEHICLE COLLISION INVESTIGATION</th>\n",
       "      <td>429</td>\n",
       "      <td>429</td>\n",
       "    </tr>\n",
       "    <tr>\n",
       "      <th>NARCOTICS COMPLAINTS</th>\n",
       "      <td>7</td>\n",
       "      <td>7</td>\n",
       "    </tr>\n",
       "    <tr>\n",
       "      <th>NUISANCE, MISCHIEF</th>\n",
       "      <td>7009</td>\n",
       "      <td>7009</td>\n",
       "    </tr>\n",
       "    <tr>\n",
       "      <th>NUISANCE, MISCHIEF</th>\n",
       "      <td>606</td>\n",
       "      <td>606</td>\n",
       "    </tr>\n",
       "    <tr>\n",
       "      <th>OTHER VICE</th>\n",
       "      <td>1</td>\n",
       "      <td>1</td>\n",
       "    </tr>\n",
       "    <tr>\n",
       "      <th>PERSON DOWN/INJURY</th>\n",
       "      <td>38</td>\n",
       "      <td>38</td>\n",
       "    </tr>\n",
       "    <tr>\n",
       "      <th>PERSONS - LOST, FOUND, MISSING</th>\n",
       "      <td>10</td>\n",
       "      <td>10</td>\n",
       "    </tr>\n",
       "    <tr>\n",
       "      <th>PROSTITUTION</th>\n",
       "      <td>351</td>\n",
       "      <td>351</td>\n",
       "    </tr>\n",
       "    <tr>\n",
       "      <th>PROWLER</th>\n",
       "      <td>3091</td>\n",
       "      <td>3091</td>\n",
       "    </tr>\n",
       "    <tr>\n",
       "      <th>PUBLIC GATHERINGS</th>\n",
       "      <td>5817</td>\n",
       "      <td>5817</td>\n",
       "    </tr>\n",
       "    <tr>\n",
       "      <th>RECKLESS BURNING</th>\n",
       "      <td>138</td>\n",
       "      <td>138</td>\n",
       "    </tr>\n",
       "    <tr>\n",
       "      <th>ROBBERY</th>\n",
       "      <td>15</td>\n",
       "      <td>15</td>\n",
       "    </tr>\n",
       "    <tr>\n",
       "      <th>SHOPLIFTING</th>\n",
       "      <td>1106</td>\n",
       "      <td>1106</td>\n",
       "    </tr>\n",
       "    <tr>\n",
       "      <th>SUSPICIOUS CIRCUMSTANCES</th>\n",
       "      <td>2</td>\n",
       "      <td>2</td>\n",
       "    </tr>\n",
       "    <tr>\n",
       "      <th>TRAFFIC RELATED CALLS</th>\n",
       "      <td>1</td>\n",
       "      <td>1</td>\n",
       "    </tr>\n",
       "    <tr>\n",
       "      <th>TRESPASS</th>\n",
       "      <td>178</td>\n",
       "      <td>178</td>\n",
       "    </tr>\n",
       "    <tr>\n",
       "      <th>VICE CALLS</th>\n",
       "      <td>18276</td>\n",
       "      <td>18276</td>\n",
       "    </tr>\n",
       "    <tr>\n",
       "      <th>WEAPONS CALLS</th>\n",
       "      <td>11</td>\n",
       "      <td>11</td>\n",
       "    </tr>\n",
       "  </tbody>\n",
       "</table>\n",
       "</div>"
      ],
      "text/plain": [
       "                                         ECG  int_accuracy\n",
       "ECG_pred                                                  \n",
       "ACCIDENT INVESTIGATION                 11580         11580\n",
       "ANIMAL COMPLAINTS                        109           109\n",
       "ARREST                                   134           134\n",
       "ASSAULTS                                   1             1\n",
       "AUTO THEFTS                               10            10\n",
       "BEHAVIORAL HEALTH                       4751          4751\n",
       "BIKE                                     880           880\n",
       "CAR PROWL                                 15            15\n",
       "DISTURBANCES                            1793          1793\n",
       "DRIVE BY (NO INJURY)                    6127          6127\n",
       "FAILURE TO REGISTER (SEX OFFENDER)     13632         13632\n",
       "FALSE ALACAD                            1071          1071\n",
       "FALSE ALARMS                             203           203\n",
       "FRAUD CALLS                               45            45\n",
       "HARBOR CALLS                           14807         14807\n",
       "HAZARDS                                   32            32\n",
       "HOMICIDE                                 243           243\n",
       "MENTAL HEALTH                            834           834\n",
       "MISCELLANEOUS MISDEMEANORS                28            28\n",
       "MOTOR VEHICLE COLLISION INVESTIGATION    429           429\n",
       "NARCOTICS COMPLAINTS                       7             7\n",
       "NUISANCE, MISCHIEF                      7009          7009\n",
       "NUISANCE, MISCHIEF                       606           606\n",
       "OTHER VICE                                 1             1\n",
       "PERSON DOWN/INJURY                        38            38\n",
       "PERSONS - LOST, FOUND, MISSING            10            10\n",
       "PROSTITUTION                             351           351\n",
       "PROWLER                                 3091          3091\n",
       "PUBLIC GATHERINGS                       5817          5817\n",
       "RECKLESS BURNING                         138           138\n",
       "ROBBERY                                   15            15\n",
       "SHOPLIFTING                             1106          1106\n",
       "SUSPICIOUS CIRCUMSTANCES                   2             2\n",
       "TRAFFIC RELATED CALLS                      1             1\n",
       "TRESPASS                                 178           178\n",
       "VICE CALLS                             18276         18276\n",
       "WEAPONS CALLS                             11            11"
      ]
     },
     "execution_count": 115,
     "metadata": {},
     "output_type": "execute_result"
    }
   ],
   "source": [
    "acc.groupby('ECG_pred').count()"
   ]
  },
  {
   "cell_type": "code",
   "execution_count": 116,
   "metadata": {
    "collapsed": false
   },
   "outputs": [
    {
     "data": {
      "text/plain": [
       "(93381, 3)"
      ]
     },
     "execution_count": 116,
     "metadata": {},
     "output_type": "execute_result"
    }
   ],
   "source": [
    "acc.shape"
   ]
  },
  {
   "cell_type": "code",
   "execution_count": 117,
   "metadata": {
    "collapsed": false
   },
   "outputs": [
    {
     "data": {
      "text/plain": [
       "0.02603540127169617"
      ]
     },
     "execution_count": 117,
     "metadata": {},
     "output_type": "execute_result"
    }
   ],
   "source": [
    "303/11638"
   ]
  },
  {
   "cell_type": "code",
   "execution_count": null,
   "metadata": {
    "collapsed": true
   },
   "outputs": [],
   "source": []
  }
 ],
 "metadata": {
  "anaconda-cloud": {},
  "kernelspec": {
   "display_name": "Python [conda root]",
   "language": "python",
   "name": "conda-root-py"
  },
  "language_info": {
   "codemirror_mode": {
    "name": "ipython",
    "version": 3
   },
   "file_extension": ".py",
   "mimetype": "text/x-python",
   "name": "python",
   "nbconvert_exporter": "python",
   "pygments_lexer": "ipython3",
   "version": "3.5.2"
  }
 },
 "nbformat": 4,
 "nbformat_minor": 1
}
