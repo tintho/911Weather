{
 "cells": [
  {
   "cell_type": "code",
   "execution_count": 1,
   "metadata": {
    "collapsed": true
   },
   "outputs": [],
   "source": [
    "import csv\n",
    "import pandas as pd\n",
    "import numpy as np\n",
    "import re\n",
    "import datetime as dt\n",
    "import time"
   ]
  },
  {
   "cell_type": "code",
   "execution_count": 2,
   "metadata": {
    "collapsed": true
   },
   "outputs": [],
   "source": [
    "df = pd.read_csv(\"Seattle_Police_Department_911_Incident_Response.csv\", parse_dates=[0], infer_datetime_format=True)"
   ]
  },
  {
   "cell_type": "code",
   "execution_count": 3,
   "metadata": {
    "collapsed": true
   },
   "outputs": [],
   "source": [
    "df['fullDate'] = df['Event Clearance Date'].apply(lambda x: str(x).split(' ')[0])\n",
    "df['ECG'] = df['Event Clearance Group']\n",
    "df['dtDate'] = pd.DatetimeIndex(df['Event Clearance Date'])\n",
    "df['eventClearanceSeconds'] = df['dtDate'].apply(lambda x: x.hour * 3600 + x.minute*60)"
   ]
  },
  {
   "cell_type": "code",
   "execution_count": 4,
   "metadata": {
    "collapsed": true
   },
   "outputs": [],
   "source": [
    "df['weekday'] = df['dtDate'].apply(lambda x: x.weekday())\n",
    "df['weekdayName'] = df['dtDate'].apply(lambda x: x.weekday_name)\n",
    "\n",
    "weekDummies = pd.get_dummies(df['weekdayName'])\n",
    "df = pd.concat([df,weekDummies], axis = 1)\n",
    "\n",
    "zoneBeatDummies = pd.get_dummies(df['Zone/Beat'])\n",
    "df = pd.concat([df,zoneBeatDummies], axis = 1)"
   ]
  },
  {
   "cell_type": "code",
   "execution_count": 5,
   "metadata": {
    "collapsed": true
   },
   "outputs": [],
   "source": [
    "import calendar\n",
    "weather = pd.read_csv(\"WEATHER.csv\")\n",
    "\n",
    "months_map = {'Jan': '01', 'Feb': '02', 'Mar': '03', 'Apr':'04', 'May': '05', 'Jun': '06', 'Jul': '07', 'Aug': '08', 'Sep': '09', 'Oct':'10', 'Nov': '11', 'Dec': '12'}\n",
    "weather['m'] = weather['month'].apply(lambda x: months_map[x])\n",
    "weather['day'] = weather['date'].apply(lambda x: ('0' + str(x)) if x < 10 else str(x) )\n",
    "weather['fullDate'] = weather.apply(lambda x: str(x['m']) + '/' + str(x['day']) + '/' + str(x['\\ufeffyear']), axis=1 )\n",
    "weather['clear'] = weather['events'].apply(lambda x: 1 if ('Rain' in str(x) or 'Snow' in str(x) or 'Fog' in str(x) or 'Thunderstorm' in str(x)) else 0)\n",
    "weather['notClear'] = weather['clear'].apply(lambda x: 1 if x is 0 else 0)"
   ]
  },
  {
   "cell_type": "code",
   "execution_count": 10,
   "metadata": {
    "collapsed": true
   },
   "outputs": [],
   "source": [
    "merged = pd.merge(df, weather, on = 'fullDate', how = 'left')"
   ]
  },
  {
   "cell_type": "code",
   "execution_count": 14,
   "metadata": {
    "collapsed": false,
    "scrolled": true
   },
   "outputs": [],
   "source": [
    "#list(merged.columns.values)"
   ]
  },
  {
   "cell_type": "code",
   "execution_count": 12,
   "metadata": {
    "collapsed": false
   },
   "outputs": [
    {
     "data": {
      "text/plain": [
       "(1335033, 151)"
      ]
     },
     "execution_count": 12,
     "metadata": {},
     "output_type": "execute_result"
    }
   ],
   "source": [
    "merged.shape"
   ]
  },
  {
   "cell_type": "code",
   "execution_count": 13,
   "metadata": {
    "collapsed": false
   },
   "outputs": [
    {
     "data": {
      "text/plain": [
       "(1311452, 151)"
      ]
     },
     "execution_count": 13,
     "metadata": {},
     "output_type": "execute_result"
    }
   ],
   "source": [
    "merged = merged.dropna(subset=[\"Event Clearance Date\", \"Event Clearance Group\",\"date\", \"tempAvg\"])\n",
    "merged.shape"
   ]
  },
  {
   "cell_type": "code",
   "execution_count": 18,
   "metadata": {
    "collapsed": false
   },
   "outputs": [],
   "source": [
    "#merged.groupby('ECG').count()"
   ]
  },
  {
   "cell_type": "code",
   "execution_count": 59,
   "metadata": {
    "collapsed": false
   },
   "outputs": [],
   "source": [
    "sample = []\n",
    "foo = merged.groupby('ECG')\n",
    "for name, group in foo:\n",
    "    sample.append(group.sample(n=10000, replace = True, random_state = 14))\n",
    "new_df = pd.concat(sample)\n",
    "new_df['secondsInDay'] = new_df['eventClearanceSeconds'].apply(lambda x: int(x))"
   ]
  },
  {
   "cell_type": "code",
   "execution_count": 60,
   "metadata": {
    "collapsed": false
   },
   "outputs": [],
   "source": [
    "#new_df.groupby('ECG').count()"
   ]
  },
  {
   "cell_type": "code",
   "execution_count": 61,
   "metadata": {
    "collapsed": false
   },
   "outputs": [],
   "source": [
    "train=new_df.sample(frac=0.7,random_state=14)\n",
    "test=new_df.sample(frac = 0.3, random_state = 16)"
   ]
  },
  {
   "cell_type": "code",
   "execution_count": 62,
   "metadata": {
    "collapsed": false
   },
   "outputs": [
    {
     "data": {
      "text/plain": [
       "(308000, 152)"
      ]
     },
     "execution_count": 62,
     "metadata": {},
     "output_type": "execute_result"
    }
   ],
   "source": [
    "train.shape"
   ]
  },
  {
   "cell_type": "code",
   "execution_count": 63,
   "metadata": {
    "collapsed": false
   },
   "outputs": [
    {
     "data": {
      "text/plain": [
       "(132000, 152)"
      ]
     },
     "execution_count": 63,
     "metadata": {},
     "output_type": "execute_result"
    }
   ],
   "source": [
    "test.shape"
   ]
  },
  {
   "cell_type": "code",
   "execution_count": 75,
   "metadata": {
    "collapsed": false
   },
   "outputs": [
    {
     "data": {
      "text/html": [
       "<div>\n",
       "<table border=\"1\" class=\"dataframe\">\n",
       "  <thead>\n",
       "    <tr style=\"text-align: right;\">\n",
       "      <th></th>\n",
       "      <th>secondsInDay</th>\n",
       "      <th>clear</th>\n",
       "      <th>Latitude</th>\n",
       "      <th>Longitude</th>\n",
       "      <th>m</th>\n",
       "      <th>day</th>\n",
       "      <th>tempHigh</th>\n",
       "      <th>tempAvg</th>\n",
       "      <th>tempLow</th>\n",
       "      <th>dewHigh</th>\n",
       "      <th>...</th>\n",
       "      <th>U1</th>\n",
       "      <th>U2</th>\n",
       "      <th>U3</th>\n",
       "      <th>US</th>\n",
       "      <th>W</th>\n",
       "      <th>W1</th>\n",
       "      <th>W2</th>\n",
       "      <th>W3</th>\n",
       "      <th>WP</th>\n",
       "      <th>WS</th>\n",
       "    </tr>\n",
       "  </thead>\n",
       "  <tbody>\n",
       "    <tr>\n",
       "      <th>416055</th>\n",
       "      <td>8880</td>\n",
       "      <td>1.0</td>\n",
       "      <td>47.588294</td>\n",
       "      <td>-122.379822</td>\n",
       "      <td>04</td>\n",
       "      <td>20</td>\n",
       "      <td>56.0</td>\n",
       "      <td>50.0</td>\n",
       "      <td>44.0</td>\n",
       "      <td>50.0</td>\n",
       "      <td>...</td>\n",
       "      <td>0.0</td>\n",
       "      <td>0.0</td>\n",
       "      <td>0.0</td>\n",
       "      <td>0.0</td>\n",
       "      <td>0.0</td>\n",
       "      <td>1.0</td>\n",
       "      <td>0.0</td>\n",
       "      <td>0.0</td>\n",
       "      <td>0.0</td>\n",
       "      <td>0.0</td>\n",
       "    </tr>\n",
       "    <tr>\n",
       "      <th>1235977</th>\n",
       "      <td>7980</td>\n",
       "      <td>0.0</td>\n",
       "      <td>47.717174</td>\n",
       "      <td>-122.344896</td>\n",
       "      <td>08</td>\n",
       "      <td>09</td>\n",
       "      <td>76.0</td>\n",
       "      <td>67.0</td>\n",
       "      <td>58.0</td>\n",
       "      <td>55.0</td>\n",
       "      <td>...</td>\n",
       "      <td>0.0</td>\n",
       "      <td>0.0</td>\n",
       "      <td>0.0</td>\n",
       "      <td>0.0</td>\n",
       "      <td>0.0</td>\n",
       "      <td>0.0</td>\n",
       "      <td>0.0</td>\n",
       "      <td>0.0</td>\n",
       "      <td>0.0</td>\n",
       "      <td>0.0</td>\n",
       "    </tr>\n",
       "    <tr>\n",
       "      <th>1174653</th>\n",
       "      <td>36000</td>\n",
       "      <td>1.0</td>\n",
       "      <td>47.616875</td>\n",
       "      <td>-122.338544</td>\n",
       "      <td>10</td>\n",
       "      <td>31</td>\n",
       "      <td>55.0</td>\n",
       "      <td>51.0</td>\n",
       "      <td>47.0</td>\n",
       "      <td>52.0</td>\n",
       "      <td>...</td>\n",
       "      <td>0.0</td>\n",
       "      <td>0.0</td>\n",
       "      <td>0.0</td>\n",
       "      <td>0.0</td>\n",
       "      <td>0.0</td>\n",
       "      <td>0.0</td>\n",
       "      <td>0.0</td>\n",
       "      <td>0.0</td>\n",
       "      <td>0.0</td>\n",
       "      <td>0.0</td>\n",
       "    </tr>\n",
       "    <tr>\n",
       "      <th>364724</th>\n",
       "      <td>62580</td>\n",
       "      <td>0.0</td>\n",
       "      <td>47.625355</td>\n",
       "      <td>-122.318066</td>\n",
       "      <td>02</td>\n",
       "      <td>03</td>\n",
       "      <td>58.0</td>\n",
       "      <td>47.0</td>\n",
       "      <td>36.0</td>\n",
       "      <td>33.0</td>\n",
       "      <td>...</td>\n",
       "      <td>0.0</td>\n",
       "      <td>0.0</td>\n",
       "      <td>0.0</td>\n",
       "      <td>0.0</td>\n",
       "      <td>0.0</td>\n",
       "      <td>0.0</td>\n",
       "      <td>0.0</td>\n",
       "      <td>0.0</td>\n",
       "      <td>0.0</td>\n",
       "      <td>0.0</td>\n",
       "    </tr>\n",
       "    <tr>\n",
       "      <th>480179</th>\n",
       "      <td>80280</td>\n",
       "      <td>1.0</td>\n",
       "      <td>47.614684</td>\n",
       "      <td>-122.316845</td>\n",
       "      <td>07</td>\n",
       "      <td>15</td>\n",
       "      <td>66.0</td>\n",
       "      <td>61.0</td>\n",
       "      <td>56.0</td>\n",
       "      <td>56.0</td>\n",
       "      <td>...</td>\n",
       "      <td>0.0</td>\n",
       "      <td>0.0</td>\n",
       "      <td>0.0</td>\n",
       "      <td>0.0</td>\n",
       "      <td>0.0</td>\n",
       "      <td>0.0</td>\n",
       "      <td>0.0</td>\n",
       "      <td>0.0</td>\n",
       "      <td>0.0</td>\n",
       "      <td>0.0</td>\n",
       "    </tr>\n",
       "  </tbody>\n",
       "</table>\n",
       "<p>5 rows × 120 columns</p>\n",
       "</div>"
      ],
      "text/plain": [
       "         secondsInDay  clear   Latitude   Longitude   m day  tempHigh  \\\n",
       "416055           8880    1.0  47.588294 -122.379822  04  20      56.0   \n",
       "1235977          7980    0.0  47.717174 -122.344896  08  09      76.0   \n",
       "1174653         36000    1.0  47.616875 -122.338544  10  31      55.0   \n",
       "364724          62580    0.0  47.625355 -122.318066  02  03      58.0   \n",
       "480179          80280    1.0  47.614684 -122.316845  07  15      66.0   \n",
       "\n",
       "         tempAvg  tempLow  dewHigh ...    U1   U2   U3   US    W   W1   W2  \\\n",
       "416055      50.0     44.0     50.0 ...   0.0  0.0  0.0  0.0  0.0  1.0  0.0   \n",
       "1235977     67.0     58.0     55.0 ...   0.0  0.0  0.0  0.0  0.0  0.0  0.0   \n",
       "1174653     51.0     47.0     52.0 ...   0.0  0.0  0.0  0.0  0.0  0.0  0.0   \n",
       "364724      47.0     36.0     33.0 ...   0.0  0.0  0.0  0.0  0.0  0.0  0.0   \n",
       "480179      61.0     56.0     56.0 ...   0.0  0.0  0.0  0.0  0.0  0.0  0.0   \n",
       "\n",
       "          W3   WP   WS  \n",
       "416055   0.0  0.0  0.0  \n",
       "1235977  0.0  0.0  0.0  \n",
       "1174653  0.0  0.0  0.0  \n",
       "364724   0.0  0.0  0.0  \n",
       "480179   0.0  0.0  0.0  \n",
       "\n",
       "[5 rows x 120 columns]"
      ]
     },
     "execution_count": 75,
     "metadata": {},
     "output_type": "execute_result"
    }
   ],
   "source": [
    "features = ['secondsInDay', 'clear', 'Latitude', 'Longitude', 'm', 'day', 'tempHigh',\n",
    " 'tempAvg',\n",
    " 'tempLow',\n",
    " 'dewHigh',\n",
    " 'dewAvg',\n",
    " 'dewLow',\n",
    " 'humidityHigh',\n",
    " 'humidityAvg',\n",
    " 'humidityLow',\n",
    " 'seaLvlHigh',\n",
    " 'seaLvlAvg',\n",
    " 'seaLvlLow',\n",
    " 'visibilityHigh',\n",
    " 'visibilityAvg',\n",
    " 'visibilityLow',\n",
    " 'windHigh',\n",
    " 'windAvg','Friday',\n",
    " 'Monday',\n",
    " 'Saturday',\n",
    " 'Sunday',\n",
    " 'Thursday',\n",
    " 'Tuesday',\n",
    " 'Wednesday','99',\n",
    " 'B1',\n",
    " 'B2',\n",
    " 'B3',\n",
    " 'BS',\n",
    " 'C1',\n",
    " 'C2',\n",
    " 'C3',\n",
    " 'CCD',\n",
    " 'COMM',\n",
    " 'CS',\n",
    " 'CTY',\n",
    " 'D1',\n",
    " 'D2',\n",
    " 'D3',\n",
    " 'DET',\n",
    " 'DS',\n",
    " 'E',\n",
    " 'E1',\n",
    " 'E2',\n",
    " 'E3',\n",
    " 'EDD',\n",
    " 'EP',\n",
    " 'ES',\n",
    " 'F1',\n",
    " 'F2',\n",
    " 'F3',\n",
    " 'FS',\n",
    " 'G1',\n",
    " 'G2',\n",
    " 'G3',\n",
    " 'GS',\n",
    " 'H2',\n",
    " 'H3',\n",
    " 'INV',\n",
    " 'J1',\n",
    " 'J2',\n",
    " 'J3',\n",
    " 'JS',\n",
    " 'K1',\n",
    " 'K2',\n",
    " 'K3',\n",
    " 'KCIO07',\n",
    " 'KS',\n",
    " 'L1',\n",
    " 'L2',\n",
    " 'L3',\n",
    " 'LAPT',\n",
    " 'LS',\n",
    " 'M1',\n",
    " 'M2',\n",
    " 'M3',\n",
    " 'MS',\n",
    " 'N',\n",
    " 'N1',\n",
    " 'N2',\n",
    " 'N3',\n",
    " 'NP',\n",
    " 'NS',\n",
    " 'O1',\n",
    " 'O2',\n",
    " 'O3',\n",
    " 'OS',\n",
    " 'Q1',\n",
    " 'Q2',\n",
    " 'Q3',\n",
    " 'QS',\n",
    " 'R1',\n",
    " 'R2',\n",
    " 'R3',\n",
    " 'RS',\n",
    " 'S',\n",
    " 'S1',\n",
    " 'S2',\n",
    " 'S3',\n",
    " 'SCTR1',\n",
    " 'SP',\n",
    " 'SS',\n",
    " 'TAC3',\n",
    " 'TRF',\n",
    " 'U1',\n",
    " 'U2',\n",
    " 'U3',\n",
    " 'US',\n",
    " 'W',\n",
    " 'W1',\n",
    " 'W2',\n",
    " 'W3',\n",
    " 'WP',\n",
    " 'WS']\n",
    "X = train[features]\n",
    "X2 = test[features]\n",
    "X.head()"
   ]
  },
  {
   "cell_type": "code",
   "execution_count": 76,
   "metadata": {
    "collapsed": false
   },
   "outputs": [
    {
     "name": "stdout",
     "output_type": "stream",
     "text": [
      "(308000, 120)\n",
      "(308000,)\n"
     ]
    }
   ],
   "source": [
    "y = train.ECG\n",
    "y2 = test.ECG\n",
    "print(X.shape)\n",
    "print(y.shape)"
   ]
  },
  {
   "cell_type": "code",
   "execution_count": 78,
   "metadata": {
    "collapsed": false
   },
   "outputs": [
    {
     "ename": "ImportError",
     "evalue": "cannot import name 'rankdata'",
     "output_type": "error",
     "traceback": [
      "\u001b[0;31m---------------------------------------------------------------------------\u001b[0m",
      "\u001b[0;31mImportError\u001b[0m                               Traceback (most recent call last)",
      "\u001b[0;32m<ipython-input-78-2a92a605be9c>\u001b[0m in \u001b[0;36m<module>\u001b[0;34m()\u001b[0m\n\u001b[0;32m----> 1\u001b[0;31m \u001b[1;32mfrom\u001b[0m \u001b[0msklearn\u001b[0m \u001b[1;32mimport\u001b[0m \u001b[0mlinear_model\u001b[0m\u001b[1;33m\u001b[0m\u001b[0m\n\u001b[0m\u001b[1;32m      2\u001b[0m \u001b[0mlr\u001b[0m \u001b[1;33m=\u001b[0m \u001b[0mlinear_model\u001b[0m\u001b[1;33m.\u001b[0m\u001b[0mLogisticRegression\u001b[0m\u001b[1;33m(\u001b[0m\u001b[0msolver\u001b[0m\u001b[1;33m=\u001b[0m\u001b[1;34m'newton-cg'\u001b[0m\u001b[1;33m,\u001b[0m \u001b[0mmulti_class\u001b[0m \u001b[1;33m=\u001b[0m \u001b[1;34m'multinomial'\u001b[0m\u001b[1;33m)\u001b[0m\u001b[1;33m\u001b[0m\u001b[0m\n\u001b[1;32m      3\u001b[0m \u001b[0mfit\u001b[0m \u001b[1;33m=\u001b[0m \u001b[0mlr\u001b[0m\u001b[1;33m.\u001b[0m\u001b[0mfit\u001b[0m\u001b[1;33m(\u001b[0m\u001b[0mX\u001b[0m\u001b[1;33m,\u001b[0m \u001b[0my\u001b[0m\u001b[1;33m)\u001b[0m\u001b[1;33m\u001b[0m\u001b[0m\n",
      "\u001b[0;32mC:\\Users\\Tin\\Anaconda3\\lib\\site-packages\\sklearn\\linear_model\\__init__.py\u001b[0m in \u001b[0;36m<module>\u001b[0;34m()\u001b[0m\n\u001b[1;32m     13\u001b[0m \u001b[1;33m\u001b[0m\u001b[0m\n\u001b[1;32m     14\u001b[0m \u001b[1;32mfrom\u001b[0m \u001b[1;33m.\u001b[0m\u001b[0mbayes\u001b[0m \u001b[1;32mimport\u001b[0m \u001b[0mBayesianRidge\u001b[0m\u001b[1;33m,\u001b[0m \u001b[0mARDRegression\u001b[0m\u001b[1;33m\u001b[0m\u001b[0m\n\u001b[0;32m---> 15\u001b[0;31m from .least_angle import (Lars, LassoLars, lars_path, LarsCV, LassoLarsCV,\n\u001b[0m\u001b[1;32m     16\u001b[0m                           LassoLarsIC)\n\u001b[1;32m     17\u001b[0m from .coordinate_descent import (Lasso, ElasticNet, LassoCV, ElasticNetCV,\n",
      "\u001b[0;32mC:\\Users\\Tin\\Anaconda3\\lib\\site-packages\\sklearn\\linear_model\\least_angle.py\u001b[0m in \u001b[0;36m<module>\u001b[0;34m()\u001b[0m\n\u001b[1;32m     23\u001b[0m \u001b[1;32mfrom\u001b[0m \u001b[1;33m.\u001b[0m\u001b[1;33m.\u001b[0m\u001b[0mbase\u001b[0m \u001b[1;32mimport\u001b[0m \u001b[0mRegressorMixin\u001b[0m\u001b[1;33m\u001b[0m\u001b[0m\n\u001b[1;32m     24\u001b[0m \u001b[1;32mfrom\u001b[0m \u001b[1;33m.\u001b[0m\u001b[1;33m.\u001b[0m\u001b[0mutils\u001b[0m \u001b[1;32mimport\u001b[0m \u001b[0marrayfuncs\u001b[0m\u001b[1;33m,\u001b[0m \u001b[0mas_float_array\u001b[0m\u001b[1;33m,\u001b[0m \u001b[0mcheck_X_y\u001b[0m\u001b[1;33m\u001b[0m\u001b[0m\n\u001b[0;32m---> 25\u001b[0;31m \u001b[1;32mfrom\u001b[0m \u001b[1;33m.\u001b[0m\u001b[1;33m.\u001b[0m\u001b[0mmodel_selection\u001b[0m \u001b[1;32mimport\u001b[0m \u001b[0mcheck_cv\u001b[0m\u001b[1;33m\u001b[0m\u001b[0m\n\u001b[0m\u001b[1;32m     26\u001b[0m \u001b[1;32mfrom\u001b[0m \u001b[1;33m.\u001b[0m\u001b[1;33m.\u001b[0m\u001b[0mexceptions\u001b[0m \u001b[1;32mimport\u001b[0m \u001b[0mConvergenceWarning\u001b[0m\u001b[1;33m\u001b[0m\u001b[0m\n\u001b[1;32m     27\u001b[0m \u001b[1;32mfrom\u001b[0m \u001b[1;33m.\u001b[0m\u001b[1;33m.\u001b[0m\u001b[0mexternals\u001b[0m\u001b[1;33m.\u001b[0m\u001b[0mjoblib\u001b[0m \u001b[1;32mimport\u001b[0m \u001b[0mParallel\u001b[0m\u001b[1;33m,\u001b[0m \u001b[0mdelayed\u001b[0m\u001b[1;33m\u001b[0m\u001b[0m\n",
      "\u001b[0;32mC:\\Users\\Tin\\Anaconda3\\lib\\site-packages\\sklearn\\model_selection\\__init__.py\u001b[0m in \u001b[0;36m<module>\u001b[0;34m()\u001b[0m\n\u001b[1;32m     21\u001b[0m \u001b[1;32mfrom\u001b[0m \u001b[1;33m.\u001b[0m\u001b[0m_validation\u001b[0m \u001b[1;32mimport\u001b[0m \u001b[0mvalidation_curve\u001b[0m\u001b[1;33m\u001b[0m\u001b[0m\n\u001b[1;32m     22\u001b[0m \u001b[1;33m\u001b[0m\u001b[0m\n\u001b[0;32m---> 23\u001b[0;31m \u001b[1;32mfrom\u001b[0m \u001b[1;33m.\u001b[0m\u001b[0m_search\u001b[0m \u001b[1;32mimport\u001b[0m \u001b[0mGridSearchCV\u001b[0m\u001b[1;33m\u001b[0m\u001b[0m\n\u001b[0m\u001b[1;32m     24\u001b[0m \u001b[1;32mfrom\u001b[0m \u001b[1;33m.\u001b[0m\u001b[0m_search\u001b[0m \u001b[1;32mimport\u001b[0m \u001b[0mRandomizedSearchCV\u001b[0m\u001b[1;33m\u001b[0m\u001b[0m\n\u001b[1;32m     25\u001b[0m \u001b[1;32mfrom\u001b[0m \u001b[1;33m.\u001b[0m\u001b[0m_search\u001b[0m \u001b[1;32mimport\u001b[0m \u001b[0mParameterGrid\u001b[0m\u001b[1;33m\u001b[0m\u001b[0m\n",
      "\u001b[0;32mC:\\Users\\Tin\\Anaconda3\\lib\\site-packages\\sklearn\\model_selection\\_search.py\u001b[0m in \u001b[0;36m<module>\u001b[0;34m()\u001b[0m\n\u001b[1;32m     30\u001b[0m \u001b[1;32mfrom\u001b[0m \u001b[1;33m.\u001b[0m\u001b[1;33m.\u001b[0m\u001b[0mutils\u001b[0m \u001b[1;32mimport\u001b[0m \u001b[0mcheck_random_state\u001b[0m\u001b[1;33m\u001b[0m\u001b[0m\n\u001b[1;32m     31\u001b[0m \u001b[1;32mfrom\u001b[0m \u001b[1;33m.\u001b[0m\u001b[1;33m.\u001b[0m\u001b[0mutils\u001b[0m\u001b[1;33m.\u001b[0m\u001b[0mfixes\u001b[0m \u001b[1;32mimport\u001b[0m \u001b[0msp_version\u001b[0m\u001b[1;33m\u001b[0m\u001b[0m\n\u001b[0;32m---> 32\u001b[0;31m \u001b[1;32mfrom\u001b[0m \u001b[1;33m.\u001b[0m\u001b[1;33m.\u001b[0m\u001b[0mutils\u001b[0m\u001b[1;33m.\u001b[0m\u001b[0mfixes\u001b[0m \u001b[1;32mimport\u001b[0m \u001b[0mrankdata\u001b[0m\u001b[1;33m\u001b[0m\u001b[0m\n\u001b[0m\u001b[1;32m     33\u001b[0m \u001b[1;32mfrom\u001b[0m \u001b[1;33m.\u001b[0m\u001b[1;33m.\u001b[0m\u001b[0mutils\u001b[0m\u001b[1;33m.\u001b[0m\u001b[0mfixes\u001b[0m \u001b[1;32mimport\u001b[0m \u001b[0mMaskedArray\u001b[0m\u001b[1;33m\u001b[0m\u001b[0m\n\u001b[1;32m     34\u001b[0m \u001b[1;32mfrom\u001b[0m \u001b[1;33m.\u001b[0m\u001b[1;33m.\u001b[0m\u001b[0mutils\u001b[0m\u001b[1;33m.\u001b[0m\u001b[0mrandom\u001b[0m \u001b[1;32mimport\u001b[0m \u001b[0msample_without_replacement\u001b[0m\u001b[1;33m\u001b[0m\u001b[0m\n",
      "\u001b[0;31mImportError\u001b[0m: cannot import name 'rankdata'"
     ]
    }
   ],
   "source": [
    "from sklearn import linear_model\n",
    "lr = linear_model.LogisticRegression(solver='newton-cg', multi_class = 'multinomial')\n",
    "fit = lr.fit(X, y)"
   ]
  },
  {
   "cell_type": "code",
   "execution_count": null,
   "metadata": {
    "collapsed": true
   },
   "outputs": [],
   "source": [
    "preds = lr.predict(X2)"
   ]
  }
 ],
 "metadata": {
  "anaconda-cloud": {},
  "kernelspec": {
   "display_name": "Python [conda root]",
   "language": "python",
   "name": "conda-root-py"
  },
  "language_info": {
   "codemirror_mode": {
    "name": "ipython",
    "version": 3
   },
   "file_extension": ".py",
   "mimetype": "text/x-python",
   "name": "python",
   "nbconvert_exporter": "python",
   "pygments_lexer": "ipython3",
   "version": "3.5.2"
  }
 },
 "nbformat": 4,
 "nbformat_minor": 1
}
